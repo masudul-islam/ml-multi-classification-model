{
  "cells": [
    {
      "cell_type": "markdown",
      "metadata": {
        "id": "q6Tj3l6fJa9a"
      },
      "source": [
        "### Stock Market Analysis with Machine Learning\n"
      ]
    },
    {
      "cell_type": "markdown",
      "metadata": {
        "id": "aFoSTSLoJwqy"
      },
      "source": [
        "# New Section"
      ]
    },
    {
      "cell_type": "code",
      "execution_count": null,
      "metadata": {
        "colab": {
          "base_uri": "https://localhost:8080/"
        },
        "id": "0QwA6-QyLISG",
        "outputId": "3d456439-5fb1-4602-d600-fe075edbd0f8"
      },
      "outputs": [
        {
          "name": "stdout",
          "output_type": "stream",
          "text": [
            "\u001b[?25l\r\u001b[K     |██▉                             | 10 kB 19.9 MB/s eta 0:00:01\r\u001b[K     |█████▊                          | 20 kB 7.5 MB/s eta 0:00:01\r\u001b[K     |████████▌                       | 30 kB 10.4 MB/s eta 0:00:01\r\u001b[K     |███████████▍                    | 40 kB 4.3 MB/s eta 0:00:01\r\u001b[K     |██████████████▎                 | 51 kB 4.4 MB/s eta 0:00:01\r\u001b[K     |█████████████████               | 61 kB 5.2 MB/s eta 0:00:01\r\u001b[K     |████████████████████            | 71 kB 5.7 MB/s eta 0:00:01\r\u001b[K     |██████████████████████▊         | 81 kB 5.4 MB/s eta 0:00:01\r\u001b[K     |█████████████████████████▋      | 92 kB 5.8 MB/s eta 0:00:01\r\u001b[K     |████████████████████████████▌   | 102 kB 4.9 MB/s eta 0:00:01\r\u001b[K     |███████████████████████████████▎| 112 kB 4.9 MB/s eta 0:00:01\r\u001b[K     |████████████████████████████████| 115 kB 4.9 MB/s \n",
            "\u001b[?25h  Building wheel for pandas-ta (setup.py) ... \u001b[?25l\u001b[?25hdone\n"
          ]
        }
      ],
      "source": [
        "!pip install -q pandas-ta"
      ]
    },
    {
      "cell_type": "code",
      "execution_count": null,
      "metadata": {
        "id": "bgKYJKTzJa9c"
      },
      "outputs": [],
      "source": [
        "# Import packages\n",
        "from pathlib import Path\n",
        "import pandas as pd\n",
        "import numpy as np\n",
        "import pandas_ta as ta\n",
        "import seaborn as sns\n",
        "import matplotlib.pyplot as plt\n",
        "%matplotlib inline\n",
        "plt.style.use('fivethirtyeight') # Because of the nice style.\n",
        "\n",
        "# Constants \n",
        "CWD = Path().cwd()\n",
        "from sklearn.tree import DecisionTreeClassifier\n",
        "from sklearn.metrics import confusion_matrix, classification_report\n",
        "from sklearn.preprocessing import MinMaxScaler\n",
        "from sklearn.neighbors import KNeighborsClassifier\n",
        "from sklearn.model_selection import train_test_split, cross_val_score, GridSearchCV\n",
        "from sklearn.pipeline import Pipeline"
      ]
    },
    {
      "cell_type": "code",
      "execution_count": null,
      "metadata": {
        "id": "VqIKw_IeJa9d"
      },
      "outputs": [],
      "source": [
        "# Helper methods\n",
        "def load_data(filename:str = \"\", index_col = None):\n",
        "    return pd.DataFrame(pd.read_csv(filename, index_col=index_col, parse_dates=True))\n",
        "\n",
        "def signal(v, minimum=30, maximum=70):\n",
        "    \"\"\"\n",
        "    Sets a value for indicating Buy, Sell, or Hold.\n",
        "    \"\"\"\n",
        "    if abs(v) >= maximum:\n",
        "        return -1\n",
        "    elif abs(v) <= minimum:\n",
        "        return 1\n",
        "    else:\n",
        "        return 0\n",
        "\n",
        "def preprocess(raw_data=None, drop_columns=[]):\n",
        "    \"\"\"\n",
        "    Preprocess stock history for machine learning.\n",
        "    \n",
        "    :param raw_data: Pandas dataframe of unprocessed stock history data.\n",
        "    :param drop_columns: [] Array of columns to drop.\n",
        "    :returns: a processed Pandas DataFrame.\n",
        "    \"\"\"\n",
        "\n",
        "    # Make a local copy\n",
        "    pp_data = raw_data.copy() \n",
        "    # Lower case column names\n",
        "    pp_data.columns = pp_data.columns.str.lower() \n",
        "\n",
        "    # Setting up new attributes, which we'll use as features later\n",
        "    pp_data['sma20'] = pp_data.close.rolling(window=20).mean()\n",
        "    pp_data['sma50'] = pp_data.close.rolling(window=50).mean()\n",
        "    pp_data['ema12'] = pp_data.close.ewm(span=12, adjust=False).mean()\n",
        "    pp_data['ema26'] = pp_data.close.ewm(span=26, adjust=False).mean()\n",
        "    pp_data['macd'] = pp_data['ema12'] - pp_data['ema26']\n",
        "    pp_data['rsi'] = ta.rsi(pp_data.close)\n",
        "    pp_data['signal'] = pp_data.rsi.shift(-1).apply(lambda r: signal(r))\n",
        "\n",
        "\n",
        "    # Drop all NaN \n",
        "    pp_data.dropna(inplace = True)\n",
        "    if len(drop_columns) > 0:\n",
        "        pp_data.drop(columns=drop_columns, inplace=True)\n",
        "\n",
        "    # Sort ascending order, meaning from smallest to largest, we are focused on timeline\n",
        "    pp_data = pp_data.sort_index(ascending=True, axis=0)\n",
        "    \n",
        "    return pp_data"
      ]
    },
    {
      "cell_type": "code",
      "execution_count": null,
      "metadata": {
        "colab": {
          "base_uri": "https://localhost:8080/",
          "height": 238
        },
        "id": "eW73YCcfJa9f",
        "outputId": "7510c4e8-44fc-49fa-903e-0c2e38742512"
      },
      "outputs": [
        {
          "data": {
            "text/html": [
              "\n",
              "  <div id=\"df-09e518dc-8a77-4287-b694-a24f716328d1\">\n",
              "    <div class=\"colab-df-container\">\n",
              "      <div>\n",
              "<style scoped>\n",
              "    .dataframe tbody tr th:only-of-type {\n",
              "        vertical-align: middle;\n",
              "    }\n",
              "\n",
              "    .dataframe tbody tr th {\n",
              "        vertical-align: top;\n",
              "    }\n",
              "\n",
              "    .dataframe thead th {\n",
              "        text-align: right;\n",
              "    }\n",
              "</style>\n",
              "<table border=\"1\" class=\"dataframe\">\n",
              "  <thead>\n",
              "    <tr style=\"text-align: right;\">\n",
              "      <th></th>\n",
              "      <th>high</th>\n",
              "      <th>low</th>\n",
              "      <th>open</th>\n",
              "      <th>close</th>\n",
              "      <th>volume</th>\n",
              "      <th>adj close</th>\n",
              "      <th>sma20</th>\n",
              "      <th>sma50</th>\n",
              "      <th>ema12</th>\n",
              "      <th>ema26</th>\n",
              "      <th>macd</th>\n",
              "      <th>rsi</th>\n",
              "      <th>signal</th>\n",
              "    </tr>\n",
              "    <tr>\n",
              "      <th>Date</th>\n",
              "      <th></th>\n",
              "      <th></th>\n",
              "      <th></th>\n",
              "      <th></th>\n",
              "      <th></th>\n",
              "      <th></th>\n",
              "      <th></th>\n",
              "      <th></th>\n",
              "      <th></th>\n",
              "      <th></th>\n",
              "      <th></th>\n",
              "      <th></th>\n",
              "      <th></th>\n",
              "    </tr>\n",
              "  </thead>\n",
              "  <tbody>\n",
              "    <tr>\n",
              "      <th>2015-01-02</th>\n",
              "      <td>47.419998</td>\n",
              "      <td>46.540001</td>\n",
              "      <td>46.660000</td>\n",
              "      <td>46.759998</td>\n",
              "      <td>27913900.0</td>\n",
              "      <td>40.926430</td>\n",
              "      <td>57.414500</td>\n",
              "      <td>57.221400</td>\n",
              "      <td>57.072127</td>\n",
              "      <td>57.307740</td>\n",
              "      <td>-0.235613</td>\n",
              "      <td>18.981307</td>\n",
              "      <td>1</td>\n",
              "    </tr>\n",
              "    <tr>\n",
              "      <th>2015-01-02</th>\n",
              "      <td>29.174999</td>\n",
              "      <td>28.420000</td>\n",
              "      <td>29.000000</td>\n",
              "      <td>28.674999</td>\n",
              "      <td>21170000.0</td>\n",
              "      <td>24.490051</td>\n",
              "      <td>29.343750</td>\n",
              "      <td>29.420900</td>\n",
              "      <td>29.665783</td>\n",
              "      <td>29.481929</td>\n",
              "      <td>0.183854</td>\n",
              "      <td>42.851629</td>\n",
              "      <td>0</td>\n",
              "    </tr>\n",
              "    <tr>\n",
              "      <th>2015-01-02</th>\n",
              "      <td>50.331429</td>\n",
              "      <td>48.731430</td>\n",
              "      <td>49.151428</td>\n",
              "      <td>49.848572</td>\n",
              "      <td>13475000.0</td>\n",
              "      <td>49.848572</td>\n",
              "      <td>60.612428</td>\n",
              "      <td>60.218771</td>\n",
              "      <td>59.491800</td>\n",
              "      <td>60.103749</td>\n",
              "      <td>-0.611949</td>\n",
              "      <td>14.612886</td>\n",
              "      <td>1</td>\n",
              "    </tr>\n",
              "    <tr>\n",
              "      <th>2015-01-02</th>\n",
              "      <td>37.160000</td>\n",
              "      <td>36.110001</td>\n",
              "      <td>36.669998</td>\n",
              "      <td>36.360001</td>\n",
              "      <td>23605600.0</td>\n",
              "      <td>29.320631</td>\n",
              "      <td>21.211500</td>\n",
              "      <td>19.875200</td>\n",
              "      <td>22.913323</td>\n",
              "      <td>21.392870</td>\n",
              "      <td>1.520452</td>\n",
              "      <td>95.651100</td>\n",
              "      <td>-1</td>\n",
              "    </tr>\n",
              "    <tr>\n",
              "      <th>2015-01-02</th>\n",
              "      <td>18.383287</td>\n",
              "      <td>17.974569</td>\n",
              "      <td>18.192553</td>\n",
              "      <td>18.274296</td>\n",
              "      <td>21604483.0</td>\n",
              "      <td>14.435908</td>\n",
              "      <td>64.846264</td>\n",
              "      <td>64.711356</td>\n",
              "      <td>59.708570</td>\n",
              "      <td>63.127004</td>\n",
              "      <td>-3.418434</td>\n",
              "      <td>4.728080</td>\n",
              "      <td>1</td>\n",
              "    </tr>\n",
              "  </tbody>\n",
              "</table>\n",
              "</div>\n",
              "      <button class=\"colab-df-convert\" onclick=\"convertToInteractive('df-09e518dc-8a77-4287-b694-a24f716328d1')\"\n",
              "              title=\"Convert this dataframe to an interactive table.\"\n",
              "              style=\"display:none;\">\n",
              "        \n",
              "  <svg xmlns=\"http://www.w3.org/2000/svg\" height=\"24px\"viewBox=\"0 0 24 24\"\n",
              "       width=\"24px\">\n",
              "    <path d=\"M0 0h24v24H0V0z\" fill=\"none\"/>\n",
              "    <path d=\"M18.56 5.44l.94 2.06.94-2.06 2.06-.94-2.06-.94-.94-2.06-.94 2.06-2.06.94zm-11 1L8.5 8.5l.94-2.06 2.06-.94-2.06-.94L8.5 2.5l-.94 2.06-2.06.94zm10 10l.94 2.06.94-2.06 2.06-.94-2.06-.94-.94-2.06-.94 2.06-2.06.94z\"/><path d=\"M17.41 7.96l-1.37-1.37c-.4-.4-.92-.59-1.43-.59-.52 0-1.04.2-1.43.59L10.3 9.45l-7.72 7.72c-.78.78-.78 2.05 0 2.83L4 21.41c.39.39.9.59 1.41.59.51 0 1.02-.2 1.41-.59l7.78-7.78 2.81-2.81c.8-.78.8-2.07 0-2.86zM5.41 20L4 18.59l7.72-7.72 1.47 1.35L5.41 20z\"/>\n",
              "  </svg>\n",
              "      </button>\n",
              "      \n",
              "  <style>\n",
              "    .colab-df-container {\n",
              "      display:flex;\n",
              "      flex-wrap:wrap;\n",
              "      gap: 12px;\n",
              "    }\n",
              "\n",
              "    .colab-df-convert {\n",
              "      background-color: #E8F0FE;\n",
              "      border: none;\n",
              "      border-radius: 50%;\n",
              "      cursor: pointer;\n",
              "      display: none;\n",
              "      fill: #1967D2;\n",
              "      height: 32px;\n",
              "      padding: 0 0 0 0;\n",
              "      width: 32px;\n",
              "    }\n",
              "\n",
              "    .colab-df-convert:hover {\n",
              "      background-color: #E2EBFA;\n",
              "      box-shadow: 0px 1px 2px rgba(60, 64, 67, 0.3), 0px 1px 3px 1px rgba(60, 64, 67, 0.15);\n",
              "      fill: #174EA6;\n",
              "    }\n",
              "\n",
              "    [theme=dark] .colab-df-convert {\n",
              "      background-color: #3B4455;\n",
              "      fill: #D2E3FC;\n",
              "    }\n",
              "\n",
              "    [theme=dark] .colab-df-convert:hover {\n",
              "      background-color: #434B5C;\n",
              "      box-shadow: 0px 1px 3px 1px rgba(0, 0, 0, 0.15);\n",
              "      filter: drop-shadow(0px 1px 2px rgba(0, 0, 0, 0.3));\n",
              "      fill: #FFFFFF;\n",
              "    }\n",
              "  </style>\n",
              "\n",
              "      <script>\n",
              "        const buttonEl =\n",
              "          document.querySelector('#df-09e518dc-8a77-4287-b694-a24f716328d1 button.colab-df-convert');\n",
              "        buttonEl.style.display =\n",
              "          google.colab.kernel.accessAllowed ? 'block' : 'none';\n",
              "\n",
              "        async function convertToInteractive(key) {\n",
              "          const element = document.querySelector('#df-09e518dc-8a77-4287-b694-a24f716328d1');\n",
              "          const dataTable =\n",
              "            await google.colab.kernel.invokeFunction('convertToInteractive',\n",
              "                                                     [key], {});\n",
              "          if (!dataTable) return;\n",
              "\n",
              "          const docLinkHtml = 'Like what you see? Visit the ' +\n",
              "            '<a target=\"_blank\" href=https://colab.research.google.com/notebooks/data_table.ipynb>data table notebook</a>'\n",
              "            + ' to learn more about interactive tables.';\n",
              "          element.innerHTML = '';\n",
              "          dataTable['output_type'] = 'display_data';\n",
              "          await google.colab.output.renderOutput(dataTable, element);\n",
              "          const docLink = document.createElement('div');\n",
              "          docLink.innerHTML = docLinkHtml;\n",
              "          element.appendChild(docLink);\n",
              "        }\n",
              "      </script>\n",
              "    </div>\n",
              "  </div>\n",
              "  "
            ],
            "text/plain": [
              "                 high        low       open      close      volume  adj close  \\\n",
              "Date                                                                            \n",
              "2015-01-02  47.419998  46.540001  46.660000  46.759998  27913900.0  40.926430   \n",
              "2015-01-02  29.174999  28.420000  29.000000  28.674999  21170000.0  24.490051   \n",
              "2015-01-02  50.331429  48.731430  49.151428  49.848572  13475000.0  49.848572   \n",
              "2015-01-02  37.160000  36.110001  36.669998  36.360001  23605600.0  29.320631   \n",
              "2015-01-02  18.383287  17.974569  18.192553  18.274296  21604483.0  14.435908   \n",
              "\n",
              "                sma20      sma50      ema12      ema26      macd        rsi  \\\n",
              "Date                                                                          \n",
              "2015-01-02  57.414500  57.221400  57.072127  57.307740 -0.235613  18.981307   \n",
              "2015-01-02  29.343750  29.420900  29.665783  29.481929  0.183854  42.851629   \n",
              "2015-01-02  60.612428  60.218771  59.491800  60.103749 -0.611949  14.612886   \n",
              "2015-01-02  21.211500  19.875200  22.913323  21.392870  1.520452  95.651100   \n",
              "2015-01-02  64.846264  64.711356  59.708570  63.127004 -3.418434   4.728080   \n",
              "\n",
              "            signal  \n",
              "Date                \n",
              "2015-01-02       1  \n",
              "2015-01-02       0  \n",
              "2015-01-02       1  \n",
              "2015-01-02      -1  \n",
              "2015-01-02       1  "
            ]
          },
          "execution_count": 26,
          "metadata": {},
          "output_type": "execute_result"
        }
      ],
      "source": [
        "data = load_data(CWD.parent / \"stock_data.csv\", 'Date')\n",
        "data = preprocess(data, drop_columns=['ticker'])\n",
        "data.head()"
      ]
    },
    {
      "cell_type": "code",
      "execution_count": null,
      "metadata": {
        "colab": {
          "base_uri": "https://localhost:8080/"
        },
        "id": "Zfthr6Q1Ja9g",
        "outputId": "7415fe33-e973-4122-d759-7a8a64921dfe"
      },
      "outputs": [
        {
          "data": {
            "text/plain": [
              "volume      -0.225865\n",
              "signal      -0.049505\n",
              "rsi          0.094666\n",
              "macd         0.152610\n",
              "sma50        0.981277\n",
              "sma20        0.992555\n",
              "ema26        0.992929\n",
              "ema12        0.996968\n",
              "adj close    0.998507\n",
              "close        0.999676\n",
              "low          0.999816\n",
              "high         0.999859\n",
              "open         1.000000\n",
              "Name: open, dtype: float64"
            ]
          },
          "execution_count": 27,
          "metadata": {},
          "output_type": "execute_result"
        }
      ],
      "source": [
        "# Testing for any correlation between attributes, \n",
        "# the 'signal' attribute is more correlated with the 'close', 'open'.\n",
        "corr_matrix = data.corr()\n",
        "corr_matrix['open'].sort_values(ascending=True)"
      ]
    },
    {
      "cell_type": "markdown",
      "metadata": {
        "id": "UBQ3bDAiJa9h"
      },
      "source": [
        "##### Initializing the machine learning and training/test "
      ]
    },
    {
      "cell_type": "code",
      "execution_count": null,
      "metadata": {
        "id": "-nXC04wPJa9h"
      },
      "outputs": [],
      "source": [
        "# Setup a pipeline\n",
        "pipe = Pipeline([\n",
        "    ('Scaler', MinMaxScaler()),\n",
        "    ('Classifier', KNeighborsClassifier(n_neighbors=15))\n",
        "])\n",
        "\n",
        "X = data.drop(columns=['signal', 'rsi'], axis=1)\n",
        "y = data['signal']\n",
        "\n",
        "# Creating the training and testing\n",
        "X_train, X_test, y_train, y_test = train_test_split(X, y, test_size=0.3, random_state=200, stratify=y)\n",
        "\n",
        "# Train\n",
        "pipe.fit(X_train, y_train)\n",
        "\n",
        "# Predict\n",
        "pred = pipe.predict(X_test)\n",
        "\n",
        "scores = cross_val_score(pipe, X, y, scoring=\"neg_mean_squared_error\", cv=10)\n",
        "rmse_score = np.sqrt(-scores)"
      ]
    },
    {
      "cell_type": "markdown",
      "metadata": {
        "id": "I48vgpT4Ja9i"
      },
      "source": [
        "##### Performance and assessment of the learning model"
      ]
    },
    {
      "cell_type": "code",
      "execution_count": null,
      "metadata": {
        "colab": {
          "base_uri": "https://localhost:8080/"
        },
        "id": "oTskrDQhJa9i",
        "outputId": "58fda520-bef6-4eff-e20d-6cc947fb7894"
      },
      "outputs": [
        {
          "name": "stdout",
          "output_type": "stream",
          "text": [
            "Training set score: 0.8947368421052632\n",
            "Test set score: 0.8853380677615031\n",
            "\n",
            "Corss-validation:\n",
            "\n",
            "Scores: [-0.11895251 -0.12516644 -0.126498   -0.15446072 -0.15446072 -0.18109188\n",
            " -0.13981358 -0.14602752 -0.15712383 -0.14831261]\n",
            "Mean: -0.14519078174039113\n",
            "Standard deviation: 0.017553777990123025\n",
            "\n",
            "Neg Mean Sqred error: [0.34489492 0.3537887  0.35566558 0.39301491 0.39301491 0.42554891\n",
            " 0.37391654 0.38213547 0.39638849 0.38511376]\n",
            "\n",
            "Classification Report:\n",
            "              precision    recall  f1-score   support\n",
            "\n",
            "         Buy       0.70      0.20      0.31       644\n",
            "        Hold       0.89      0.99      0.94      5788\n",
            "        Sell       0.96      0.40      0.56       327\n",
            "\n",
            "    accuracy                           0.89      6759\n",
            "   macro avg       0.85      0.53      0.60      6759\n",
            "weighted avg       0.87      0.89      0.86      6759\n",
            "\n"
          ]
        }
      ],
      "source": [
        "print(f\"Training set score: {pipe.score(X_train,y_train)}\")\n",
        "print(f\"Test set score: {pipe.score(X_test,y_test)}\")\n",
        "print(f\"\\nCorss-validation:\\n\\nScores: {scores}\")\n",
        "print(f\"Mean: {scores.mean()}\")\n",
        "print(f\"Standard deviation: {scores.std()}\\n\")\n",
        "print(f\"Neg Mean Sqred error: {rmse_score}\")\n",
        "print(\"\\nClassification Report:\")\n",
        "print(classification_report(y_test, pred, target_names=['Buy', 'Hold', 'Sell']))"
      ]
    },
    {
      "cell_type": "markdown",
      "metadata": {
        "id": "ii_1BlIRJa9k"
      },
      "source": [
        "##### Results after first iteration"
      ]
    },
    {
      "cell_type": "code",
      "execution_count": null,
      "metadata": {
        "colab": {
          "base_uri": "https://localhost:8080/",
          "height": 540
        },
        "id": "KWLpEKFvJa9l",
        "outputId": "57ddd267-b02c-4cd2-de9a-d857ee1c712e"
      },
      "outputs": [
        {
          "data": {
            "image/png": "[encoded data removed]",
            "text/plain": [
              "<Figure size 720x576 with 2 Axes>"
            ]
          },
          "metadata": {},
          "output_type": "display_data"
        }
      ],
      "source": [
        "plt.figure(figsize = (10,8))\n",
        "positions = ['Buy', 'Hold', 'Sell']\n",
        "cm = confusion_matrix(y_test, pred)\n",
        "df_cm = pd.DataFrame(cm, positions, positions)\n",
        "sns.set(font_scale = 1.3)\n",
        "sns.heatmap(df_cm, annot=True, fmt='3.0f', cmap='Blues')\n",
        "plt.xlabel('Predicted')\n",
        "plt.ylabel('Actual')\n",
        "plt.show()"
      ]
    },
    {
      "cell_type": "markdown",
      "metadata": {},
      "source": [
        "DecisionTreeClassifier"
      ]
    },
    {
      "cell_type": "code",
      "execution_count": null,
      "metadata": {
        "id": "BU9iwRA1PvXF"
      },
      "outputs": [],
      "source": [
        "pipe_tree = Pipeline([\n",
        "    ('Scaler', MinMaxScaler()),\n",
        "    ('Classifier', DecisionTreeClassifier(max_depth=8))\n",
        "])"
      ]
    },
    {
      "cell_type": "code",
      "execution_count": null,
      "metadata": {
        "colab": {
          "base_uri": "https://localhost:8080/"
        },
        "id": "hoyE-ESOP-qJ",
        "outputId": "e10c279a-a138-43ee-911d-2a3ad4c06cb8"
      },
      "outputs": [
        {
          "data": {
            "text/plain": [
              "Pipeline(steps=[('Scaler', MinMaxScaler()),\n",
              "                ('Classifier', DecisionTreeClassifier())])"
            ]
          },
          "execution_count": 42,
          "metadata": {},
          "output_type": "execute_result"
        }
      ],
      "source": [
        "# Train\n",
        "pipe_tree.fit(X_train, y_train)\n"
      ]
    },
    {
      "cell_type": "code",
      "execution_count": null,
      "metadata": {
        "id": "kcbhtGAWP_Ox"
      },
      "outputs": [],
      "source": [
        "# Predict\n",
        "pred_tree = pipe_tree.predict(X_test)"
      ]
    },
    {
      "cell_type": "code",
      "execution_count": null,
      "metadata": {
        "id": "yb5HqzLNQD40"
      },
      "outputs": [],
      "source": [
        "scores_tree = cross_val_score(pipe_tree, X, y, scoring=\"neg_mean_squared_error\", cv=10)\n",
        "rmse_score_tree = np.sqrt(-scores_tree)"
      ]
    },
    {
      "cell_type": "code",
      "execution_count": null,
      "metadata": {
        "colab": {
          "base_uri": "https://localhost:8080/"
        },
        "id": "PEruS8XARjJs",
        "outputId": "2d05a72d-1bc7-4bad-e039-55ec2a032c87"
      },
      "outputs": [
        {
          "name": "stdout",
          "output_type": "stream",
          "text": [
            "Training set score: 1.0\n",
            "Test set score: 0.869655274448883\n",
            "\n",
            "Corss-validation:\n",
            "\n",
            "Scores: [-0.26009765 -0.23391034 -0.21571238 -0.21171771 -0.24012428 -0.25699068\n",
            " -0.25920994 -0.22947182 -0.20772304 -0.17717584]\n",
            "Mean: -0.2268608896446735\n",
            "Standard deviation: 0.025222567725429672\n",
            "\n",
            "Neg Mean Sqred error: [0.49721818 0.48501742 0.46967517 0.45332524 0.48866422 0.51905544\n",
            " 0.49811005 0.46730664 0.45771    0.41933721]\n",
            "\n",
            "Classification Report:\n",
            "              precision    recall  f1-score   support\n",
            "\n",
            "         Buy       0.52      0.51      0.52       644\n",
            "        Hold       0.93      0.92      0.92      5788\n",
            "        Sell       0.58      0.63      0.60       327\n",
            "\n",
            "    accuracy                           0.87      6759\n",
            "   macro avg       0.68      0.69      0.68      6759\n",
            "weighted avg       0.87      0.87      0.87      6759\n",
            "\n"
          ]
        }
      ],
      "source": [
        "print(f\"Training set score: {pipe_tree.score(X_train,y_train)}\")\n",
        "print(f\"Test set score: {pipe_tree.score(X_test,y_test)}\")\n",
        "print(f\"\\nCorss-validation:\\n\\nScores: {scores}\")\n",
        "print(f\"Mean: {scores_tree.mean()}\")\n",
        "print(f\"Standard deviation: {scores_tree.std()}\\n\")\n",
        "print(f\"Neg Mean Sqred error: {rmse_score_tree}\")\n",
        "print(\"\\nClassification Report:\")\n",
        "print(classification_report(y_test, pred_tree, target_names=['Buy', 'Hold', 'Sell']))"
      ]
    },
    {
      "cell_type": "code",
      "execution_count": null,
      "metadata": {
        "colab": {
          "base_uri": "https://localhost:8080/",
          "height": 540
        },
        "id": "Xi3GNBpNSVd2",
        "outputId": "b34c8765-259e-4cff-9690-463eefb25e9e"
      },
      "outputs": [
        {
          "data": {
            "image/png": "[encoded data removed]",
            "text/plain": [
              "<Figure size 720x576 with 2 Axes>"
            ]
          },
          "metadata": {},
          "output_type": "display_data"
        }
      ],
      "source": [
        "plt.figure(figsize = (10,8))\n",
        "positions = ['Buy', 'Hold', 'Sell']\n",
        "cm = confusion_matrix(y_test, pred_tree)\n",
        "df_cm = pd.DataFrame(cm, positions, positions)\n",
        "sns.set(font_scale = 1.3)\n",
        "sns.heatmap(df_cm, annot=True, fmt='3.0f', cmap='Blues')\n",
        "plt.xlabel('Predicted')\n",
        "plt.ylabel('Actual')\n",
        "plt.show()"
      ]
    }
  ],
  "metadata": {
    "colab": {
      "provenance": []
    },
    "kernelspec": {
      "display_name": "Python 3.9.6 64-bit",
      "language": "python",
      "name": "python3"
    },
    "language_info": {
      "codemirror_mode": {
        "name": "ipython",
        "version": 3
      },
      "file_extension": ".py",
      "mimetype": "text/x-python",
      "name": "python",
      "nbconvert_exporter": "python",
      "pygments_lexer": "ipython3",
      "version": "3.9.6"
    },
    "orig_nbformat": 4,
    "vscode": {
      "interpreter": {
        "hash": "31f2aee4e71d21fbe5cf8b01ff0e069b9275f58929596ceb00d14d90e3e16cd6"
      }
    }
  },
  "nbformat": 4,
  "nbformat_minor": 0
}
